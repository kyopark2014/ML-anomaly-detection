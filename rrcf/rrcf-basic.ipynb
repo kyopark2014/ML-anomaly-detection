{
 "cells": [
  {
   "cell_type": "markdown",
   "id": "b62af560",
   "metadata": {},
   "source": [
    "## RRCF\n",
    "\n",
    "\n",
    "[rrcf](https://klabum.github.io/rrcf/)\n",
    "\n",
    "[rrcf-github](https://github.com/kLabUM/rrcf)"
   ]
  },
  {
   "cell_type": "code",
   "execution_count": 12,
   "id": "c87bb7d8",
   "metadata": {},
   "outputs": [
    {
     "name": "stdout",
     "output_type": "stream",
     "text": [
      "Looking in indexes: https://pypi.org/simple, https://pip.repos.neuron.amazonaws.com\n",
      "Requirement already satisfied: rrcf in /home/ec2-user/anaconda3/envs/amazonei_tensorflow2_p36/lib/python3.6/site-packages (0.4.3)\n",
      "Requirement already satisfied: numpy in /home/ec2-user/anaconda3/envs/amazonei_tensorflow2_p36/lib/python3.6/site-packages (from rrcf) (1.19.5)\n"
     ]
    }
   ],
   "source": [
    "!pip install rrcf"
   ]
  },
  {
   "cell_type": "code",
   "execution_count": 2,
   "id": "83061379",
   "metadata": {},
   "outputs": [],
   "source": [
    "import numpy as np\n",
    "import rrcf\n",
    "\n",
    "# Instantiate a random cut tree from a point set (n x d)\n",
    "X = np.random.randn(100, 2)\n",
    "tree = rrcf.RCTree(X)\n",
    "\n",
    "# Instantiate an empty random cut tree\n",
    "tree = rrcf.RCTree()"
   ]
  },
  {
   "cell_type": "code",
   "execution_count": 3,
   "id": "5b40f736",
   "metadata": {},
   "outputs": [],
   "source": [
    "tree = rrcf.RCTree()\n",
    "\n",
    "for i in range(6):\n",
    "    x = np.random.randn(2)\n",
    "    tree.insert_point(x, index=i)"
   ]
  },
  {
   "cell_type": "code",
   "execution_count": 8,
   "id": "4d4a15aa",
   "metadata": {},
   "outputs": [
    {
     "data": {
      "text/plain": [
       "Leaf(outlier)"
      ]
     },
     "execution_count": 8,
     "metadata": {},
     "output_type": "execute_result"
    }
   ],
   "source": [
    "# Seed tree with zero-mean, normally distributed data\n",
    "X = np.random.randn(100,2)\n",
    "tree = rrcf.RCTree(X)\n",
    "\n",
    "# Generate an inlier and outlier point\n",
    "inlier = np.array([0, 0])\n",
    "outlier = np.array([4, 4])\n",
    "\n",
    "# Insert into tree\n",
    "tree.insert_point(inlier, index='inlier')\n",
    "tree.insert_point(outlier, index='outlier')"
   ]
  },
  {
   "cell_type": "code",
   "execution_count": 9,
   "id": "02ece56a",
   "metadata": {},
   "outputs": [
    {
     "data": {
      "text/plain": [
       "3.0"
      ]
     },
     "execution_count": 9,
     "metadata": {},
     "output_type": "execute_result"
    }
   ],
   "source": [
    "tree.codisp('inlier')"
   ]
  },
  {
   "cell_type": "code",
   "execution_count": 10,
   "id": "a88f0a79",
   "metadata": {},
   "outputs": [
    {
     "data": {
      "text/plain": [
       "13.5"
      ]
     },
     "execution_count": 10,
     "metadata": {},
     "output_type": "execute_result"
    }
   ],
   "source": [
    "tree.codisp('outlier')"
   ]
  },
  {
   "cell_type": "markdown",
   "id": "9a2d6167",
   "metadata": {},
   "source": [
    "# Batch anomaly detection\n",
    "\n",
    "This example shows how a robust random cut forest can be used to detect outliers in a batch setting. Outliers correspond to large CoDisp."
   ]
  },
  {
   "cell_type": "code",
   "execution_count": 5,
   "id": "44b88a59",
   "metadata": {},
   "outputs": [],
   "source": [
    "import numpy as np\n",
    "import pandas as pd\n",
    "import rrcf\n",
    "\n",
    "# Set sample parameters\n",
    "np.random.seed(0)\n",
    "n = 2010\n",
    "d = 3\n",
    "\n",
    "# Generate data\n",
    "X = np.zeros((n, d))\n",
    "X[:1000,0] = 5\n",
    "X[1000:2000,0] = -5\n",
    "X += 0.01*np.random.randn(*X.shape)\n",
    "\n",
    "# Set forest parameters\n",
    "num_trees = 100\n",
    "tree_size = 256\n",
    "sample_size_range = (n // tree_size, tree_size)\n",
    "\n",
    "# Construct forest\n",
    "forest = []\n",
    "while len(forest) < num_trees:\n",
    "    # Select random subsets of points uniformly\n",
    "    ixs = np.random.choice(n, size=sample_size_range,\n",
    "                           replace=False)\n",
    "    # Add sampled trees to forest\n",
    "    trees = [rrcf.RCTree(X[ix], index_labels=ix)\n",
    "             for ix in ixs]\n",
    "    forest.extend(trees)\n",
    "\n",
    "# Compute average CoDisp\n",
    "avg_codisp = pd.Series(0.0, index=np.arange(n))\n",
    "index = np.zeros(n)\n",
    "for tree in forest:\n",
    "    codisp = pd.Series({leaf : tree.codisp(leaf)\n",
    "                       for leaf in tree.leaves})\n",
    "    avg_codisp[codisp.index] += codisp\n",
    "    np.add.at(index, codisp.index.values, 1)\n",
    "avg_codisp /= index"
   ]
  },
  {
   "cell_type": "markdown",
   "id": "17c238dc",
   "metadata": {},
   "source": [
    "# Streaming anomaly detection\n",
    "\n",
    "This example shows how the algorithm can be used to detect anomalies in streaming time series data."
   ]
  },
  {
   "cell_type": "code",
   "execution_count": 6,
   "id": "2e3a6183",
   "metadata": {},
   "outputs": [],
   "source": [
    "import numpy as np\n",
    "import rrcf\n",
    "\n",
    "# Generate data\n",
    "n = 730\n",
    "A = 50\n",
    "center = 100\n",
    "phi = 30\n",
    "T = 2*np.pi/100\n",
    "t = np.arange(n)\n",
    "sin = A*np.sin(T*t-phi*T) + center\n",
    "sin[235:255] = 80\n",
    "\n",
    "# Set tree parameters\n",
    "num_trees = 40\n",
    "shingle_size = 4\n",
    "tree_size = 256\n",
    "\n",
    "# Create a forest of empty trees\n",
    "forest = []\n",
    "for _ in range(num_trees):\n",
    "    tree = rrcf.RCTree()\n",
    "    forest.append(tree)\n",
    "    \n",
    "# Use the \"shingle\" generator to create rolling window\n",
    "points = rrcf.shingle(sin, size=shingle_size)\n",
    "\n",
    "# Create a dict to store anomaly score of each point\n",
    "avg_codisp = {}\n",
    "\n",
    "# For each shingle...\n",
    "for index, point in enumerate(points):\n",
    "    # For each tree in the forest...\n",
    "    for tree in forest:\n",
    "        # If tree is above permitted size...\n",
    "        if len(tree.leaves) > tree_size:\n",
    "            # Drop the oldest point (FIFO)\n",
    "            tree.forget_point(index - tree_size)\n",
    "        # Insert the new point into the tree\n",
    "        tree.insert_point(point, index=index)\n",
    "        # Compute codisp on the new point...\n",
    "        new_codisp = tree.codisp(index)\n",
    "        # And take the average over all trees\n",
    "        if not index in avg_codisp:\n",
    "            avg_codisp[index] = 0\n",
    "        avg_codisp[index] += new_codisp / num_trees"
   ]
  },
  {
   "cell_type": "code",
   "execution_count": null,
   "id": "9acfde27",
   "metadata": {},
   "outputs": [],
   "source": []
  }
 ],
 "metadata": {
  "kernelspec": {
   "display_name": "conda_amazonei_tensorflow2_p36",
   "language": "python",
   "name": "conda_amazonei_tensorflow2_p36"
  },
  "language_info": {
   "codemirror_mode": {
    "name": "ipython",
    "version": 3
   },
   "file_extension": ".py",
   "mimetype": "text/x-python",
   "name": "python",
   "nbconvert_exporter": "python",
   "pygments_lexer": "ipython3",
   "version": "3.6.13"
  }
 },
 "nbformat": 4,
 "nbformat_minor": 5
}
